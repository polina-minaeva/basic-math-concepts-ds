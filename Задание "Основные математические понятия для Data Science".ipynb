{
  "nbformat": 4,
  "nbformat_minor": 0,
  "metadata": {
    "colab": {
      "provenance": [],
      "authorship_tag": "ABX9TyOsB89LGnj+eE2o/EZD58w7",
      "include_colab_link": true
    },
    "kernelspec": {
      "name": "python3",
      "display_name": "Python 3"
    },
    "language_info": {
      "name": "python"
    }
  },
  "cells": [
    {
      "cell_type": "markdown",
      "metadata": {
        "id": "view-in-github",
        "colab_type": "text"
      },
      "source": [
        "<a href=\"https://colab.research.google.com/github/polina-minaeva/basic-math-concepts-ds/blob/main/%D0%97%D0%B0%D0%B4%D0%B0%D0%BD%D0%B8%D0%B5%20%22%D0%9E%D1%81%D0%BD%D0%BE%D0%B2%D0%BD%D1%8B%D0%B5%20%D0%BC%D0%B0%D1%82%D0%B5%D0%BC%D0%B0%D1%82%D0%B8%D1%87%D0%B5%D1%81%D0%BA%D0%B8%D0%B5%20%D0%BF%D0%BE%D0%BD%D1%8F%D1%82%D0%B8%D1%8F%20%D0%B4%D0%BB%D1%8F%20Data%20Science%22.ipynb\" target=\"_parent\"><img src=\"https://colab.research.google.com/assets/colab-badge.svg\" alt=\"Open In Colab\"/></a>"
      ]
    },
    {
      "cell_type": "markdown",
      "source": [
        "**Уровень 1:**\n",
        "\n",
        "Задание 2\n",
        "Вычислить с помощью Python значение первой производной для функции 8х(х+3)**2\n",
        " в точке х=1\n"
      ],
      "metadata": {
        "id": "5ym95CKmbwDm"
      }
    },
    {
      "cell_type": "code",
      "execution_count": 14,
      "metadata": {
        "id": "237takSbbpDd"
      },
      "outputs": [],
      "source": [
        "#импортируем нужную библиотеку\n",
        "import sympy as sp\n",
        "\n",
        "x=sp.Symbol('x') #превращаем х в символ"
      ]
    },
    {
      "cell_type": "code",
      "source": [
        "8*x*(x+3)**2 #это данное уравнение"
      ],
      "metadata": {
        "colab": {
          "base_uri": "https://localhost:8080/",
          "height": 40
        },
        "id": "Bis1U41cdkT1",
        "outputId": "01b42157-75d1-4772-d14b-2ad96a108233"
      },
      "execution_count": 16,
      "outputs": [
        {
          "output_type": "execute_result",
          "data": {
            "text/plain": [
              "8*x*(x + 3)**2"
            ],
            "text/latex": "$\\displaystyle 8 x \\left(x + 3\\right)^{2}$"
          },
          "metadata": {},
          "execution_count": 16
        }
      ]
    },
    {
      "cell_type": "code",
      "source": [
        "res=sp.diff(8*x*(x+3)**2,x) #дифференцируем функцию по переменной x"
      ],
      "metadata": {
        "id": "J6IOtcaVdnSO"
      },
      "execution_count": 17,
      "outputs": []
    },
    {
      "cell_type": "code",
      "source": [
        "res #получаем аналитическую производную"
      ],
      "metadata": {
        "colab": {
          "base_uri": "https://localhost:8080/",
          "height": 40
        },
        "id": "lBl9yrmdcvev",
        "outputId": "b9d7e533-66e4-44e3-fc85-acdf94e7f9a6"
      },
      "execution_count": 18,
      "outputs": [
        {
          "output_type": "execute_result",
          "data": {
            "text/plain": [
              "8*x*(2*x + 6) + 8*(x + 3)**2"
            ],
            "text/latex": "$\\displaystyle 8 x \\left(2 x + 6\\right) + 8 \\left(x + 3\\right)^{2}$"
          },
          "metadata": {},
          "execution_count": 18
        }
      ]
    },
    {
      "cell_type": "code",
      "source": [
        "#узнаем значение производной в точке х=1: используем функцию subs\n",
        "res.subs(x,1)"
      ],
      "metadata": {
        "colab": {
          "base_uri": "https://localhost:8080/",
          "height": 37
        },
        "id": "Bp2YffYyeS8U",
        "outputId": "3f1bd4b6-d070-4fa3-8117-46fcc5cd8ea5"
      },
      "execution_count": 19,
      "outputs": [
        {
          "output_type": "execute_result",
          "data": {
            "text/plain": [
              "192"
            ],
            "text/latex": "$\\displaystyle 192$"
          },
          "metadata": {},
          "execution_count": 19
        }
      ]
    },
    {
      "cell_type": "markdown",
      "source": [
        "Задание 3\n",
        "Объединить векторы фильмов в матрицу, где каждый вектор является строкой матрицы. Умножьте вектор [1,2,3,4] на полученную матрицу\n",
        "\n",
        "film_1 = np.array([0,0,0,0,1,0])      # Игра в имитацию\n",
        "\n",
        "film_2 = np.array([0,1,0,1,0,0])      # Ярость\n",
        "\n",
        "film_3 = np.array([0,0,1,1,1,0])      # 12 лет рабства\n",
        "\n",
        "film_4 = np.array([1,0,0,1,0,1])      # Однажды в Голливуде"
      ],
      "metadata": {
        "id": "fl1NPM68b1Qv"
      }
    },
    {
      "cell_type": "code",
      "source": [
        "#импортируем нужную нам библиотеку\n",
        "import numpy as np\n",
        "\n",
        "#создаем матрицу из этих векторов\n",
        "f_1 = np.array([0,0,0,0,1,0])      # Игра в имитацию\n",
        "f_2 = np.array([0,1,0,1,0,0])      # Ярость\n",
        "f_3 = np.array([0,0,1,1,1,0])      # 12 лет рабства\n",
        "f_4 = np.array([1,0,0,1,0,1])      # Однажды в Голливуде\n",
        "\n",
        "matr = np.array([f_1, f_2, f_3, f_4])"
      ],
      "metadata": {
        "id": "i1no_iGqezL9"
      },
      "execution_count": 28,
      "outputs": []
    },
    {
      "cell_type": "code",
      "source": [
        "matr"
      ],
      "metadata": {
        "colab": {
          "base_uri": "https://localhost:8080/"
        },
        "id": "yim23LiQhlNX",
        "outputId": "c83472fd-0f11-436a-c59c-7bfcc4cfdda6"
      },
      "execution_count": 29,
      "outputs": [
        {
          "output_type": "execute_result",
          "data": {
            "text/plain": [
              "array([[0, 0, 0, 0, 1, 0],\n",
              "       [0, 1, 0, 1, 0, 0],\n",
              "       [0, 0, 1, 1, 1, 0],\n",
              "       [1, 0, 0, 1, 0, 1]])"
            ]
          },
          "metadata": {},
          "execution_count": 29
        }
      ]
    },
    {
      "cell_type": "code",
      "source": [
        "#теперь нам нужно умножить вектор [1,2,3,4] на полученную матрицу"
      ],
      "metadata": {
        "id": "OC1L2fjRh9xr"
      },
      "execution_count": null,
      "outputs": []
    },
    {
      "cell_type": "code",
      "source": [
        "vect = np.array([1,2,3,4]) #создаем вектор"
      ],
      "metadata": {
        "id": "Ylacxfpejy50"
      },
      "execution_count": 39,
      "outputs": []
    },
    {
      "cell_type": "code",
      "source": [
        "res = vect.dot(matr) #умножаем вектор на матрицу с помощью dot"
      ],
      "metadata": {
        "id": "UzX-cHz5j0q9"
      },
      "execution_count": 40,
      "outputs": []
    },
    {
      "cell_type": "code",
      "source": [
        "res"
      ],
      "metadata": {
        "colab": {
          "base_uri": "https://localhost:8080/"
        },
        "id": "rBfoTsNsj9GT",
        "outputId": "9f27f431-364e-4d39-8c28-44e7a6a6d635"
      },
      "execution_count": 41,
      "outputs": [
        {
          "output_type": "execute_result",
          "data": {
            "text/plain": [
              "array([4, 2, 3, 9, 4, 4])"
            ]
          },
          "metadata": {},
          "execution_count": 41
        }
      ]
    }
  ]
}